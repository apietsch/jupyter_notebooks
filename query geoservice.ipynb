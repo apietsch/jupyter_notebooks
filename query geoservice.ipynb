{
 "cells": [
  {
   "cell_type": "code",
   "execution_count": 1,
   "metadata": {},
   "outputs": [
    {
     "name": "stdout",
     "output_type": "stream",
     "text": [
      "layers: 5\n",
      "Layer: ave:Flurstueck, Features: 3207122\n",
      "Layer: ave:GebaeudeBauwerk, Features: 2263315\n",
      "Layer: ave:KatasterBezirk, Features: 19192\n",
      "Layer: ave:Nutzung, Features: 977374\n",
      "Layer: ave:VerwaltungsEinheit, Features: 1515\n"
     ]
    }
   ],
   "source": [
    "from osgeo import ogr, osr, gdal\n",
    "\n",
    "databaseServer = \"localhost\"\n",
    "databaseName = \"poc_vectordata\"\n",
    "databaseUser = \"wwmportal\"\n",
    "databasePW = \"xJ08PszU\"\n",
    "\n",
    "connString = \"PG: host=%s dbname=%s user=%s password=%s\" %(databaseServer,databaseName,databaseUser,databasePW)\n",
    "\n",
    "gdal.SetConfigOption('OGR_WFS_LOAD_MULTIPLE_LAYER_DEFN', 'YES')\n",
    "gdal.SetConfigOption('OGR_WFS_PAGING_ALLOWED', 'YES')\n",
    "gdal.SetConfigOption('OGR_WFS_PAGE_SIZE', '10000')\n",
    "\n",
    "thr_url = 'http://www.geoproxy.geoportal-th.de/geoproxy/services/adv_alkis_wfs?SERVICE=WFS&VERSION=1.1.0'\n",
    "bb_url = 'https://isk.geobasis-bb.de/ows/alkis_vereinf_wfs?SERVICE=WFS&VERSION=1.1.0'\n",
    "mckl = 'https://www.geodaten-mv.de/dienste/alkis_wfs_einfach'\n",
    "\n",
    "capabilities = [\n",
    "    ogr.OLCRandomRead,\n",
    "    ogr.OLCSequentialWrite,\n",
    "    ogr.OLCRandomWrite,\n",
    "    ogr.OLCFastSpatialFilter,\n",
    "    ogr.OLCFastFeatureCount,\n",
    "    ogr.OLCFastGetExtent,\n",
    "    ogr.OLCCreateField,\n",
    "    ogr.OLCDeleteField,\n",
    "    ogr.OLCReorderFields,\n",
    "    ogr.OLCAlterFieldDefn,\n",
    "    ogr.OLCTransactions,\n",
    "    ogr.OLCDeleteFeature,\n",
    "    ogr.OLCFastSetNextByIndex,\n",
    "    ogr.OLCStringsAsUTF8,\n",
    "    ogr.OLCIgnoreFields\n",
    "]\n",
    "\n",
    "def PrintGetCapabilities(url):\n",
    "    wfs_drv = ogr.GetDriverByName('WFS')\n",
    "    wfs_ds = wfs_drv.Open('WFS:' + url)\n",
    "    print('layers: {0}'.format(wfs_ds.GetLayerCount()))\n",
    "    for i in range(wfs_ds.GetLayerCount()):\n",
    "        layer = wfs_ds.GetLayerByIndex(i)\n",
    "        srs = layer.GetSpatialRef()\n",
    "        print('Layer: {0}, Features: {1}'.format(layer.GetName(), layer.GetFeatureCount()))\n",
    "\n",
    "PrintGetCapabilities(thr_url)"
   ]
  },
  {
   "cell_type": "code",
   "execution_count": 2,
   "metadata": {},
   "outputs": [],
   "source": [
    "def get_plot_thr_wfs_layer(wfs_ds):\n",
    "    \"get_plot_thr_wfs_layer\"\n",
    "    lyr = wfs_ds.GetLayerByName(\"ave:Flurstueck\")\n",
    "    return lyr"
   ]
  },
  {
   "cell_type": "code",
   "execution_count": 3,
   "metadata": {},
   "outputs": [],
   "source": [
    "def get_wfs_thr_connection():\n",
    "    url = thr_url\n",
    "    wfs_drv = ogr.GetDriverByName('WFS')\n",
    "    wfs_ds = wfs_drv.Open('WFS:' + url, 0)\n",
    "    return wfs_ds\n"
   ]
  },
  {
   "cell_type": "code",
   "execution_count": null,
   "metadata": {},
   "outputs": [],
   "source": [
    "layer = get_plot_thr_wfs_layer(get_wfs_thr_connection())\n",
    "#attribute_filter = \"gemarkung='Daasdorf am Berge' and flurstnr like '273/%' and flur='Flur 2' and flstkennz like '165317%'\"\n",
    "#layer.SetAttributeFilter(attribute_filter)\n",
    "featureCount = layer.GetFeatureCount()\n"
   ]
  },
  {
   "cell_type": "code",
   "execution_count": 6,
   "metadata": {},
   "outputs": [
    {
     "name": "stdout",
     "output_type": "stream",
     "text": [
      "0\n"
     ]
    }
   ],
   "source": [
    "print(featureCount)"
   ]
  },
  {
   "cell_type": "code",
   "execution_count": null,
   "metadata": {},
   "outputs": [],
   "source": []
  }
 ],
 "metadata": {
  "kernelspec": {
   "display_name": "Python 3",
   "language": "python",
   "name": "python3"
  },
  "language_info": {
   "codemirror_mode": {
    "name": "ipython",
    "version": 3
   },
   "file_extension": ".py",
   "mimetype": "text/x-python",
   "name": "python",
   "nbconvert_exporter": "python",
   "pygments_lexer": "ipython3",
   "version": "3.7.7"
  }
 },
 "nbformat": 4,
 "nbformat_minor": 4
}
