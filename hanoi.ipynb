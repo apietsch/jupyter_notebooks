{
 "cells": [
  {
   "cell_type": "code",
   "execution_count": 3,
   "metadata": {},
   "outputs": [
    {
     "name": "stdout",
     "output_type": "stream",
     "text": [
      "move disk from A to B\n",
      "move disk from A to C\n",
      "move disk from B to C\n",
      "move disk from A to B\n",
      "move disk from C to A\n",
      "move disk from C to B\n",
      "move disk from A to B\n",
      "move disk from A to C\n",
      "move disk from B to C\n",
      "move disk from B to A\n",
      "move disk from C to A\n",
      "move disk from B to C\n",
      "move disk from A to B\n",
      "move disk from A to C\n",
      "move disk from B to C\n"
     ]
    }
   ],
   "source": [
    "def move(f,t):\n",
    "    print(\"move disk from {} to {}\".format(f,t))\n",
    "    \n",
    "def moveVia(f,v,t):\n",
    "    move(f, v)\n",
    "    move(v, t)\n",
    "# n number of disks\n",
    "# f from position\n",
    "# h helper position\n",
    "# t target position\n",
    "#    \n",
    "#    a b c\n",
    "#    | | |\n",
    "#  -----------\n",
    "#\n",
    "def hanoi(n, f, h, t):\n",
    "    if n == 0:\n",
    "        pass\n",
    "    else:\n",
    "        hanoi(n-1, f, t, h)\n",
    "        move(f,t)\n",
    "        hanoi(n-1 ,h ,f ,t)\n",
    "    \n",
    "hanoi(4, \"A\", \"B\", \"C\")"
   ]
  },
  {
   "cell_type": "code",
   "execution_count": null,
   "metadata": {},
   "outputs": [],
   "source": []
  }
 ],
 "metadata": {
  "kernelspec": {
   "display_name": "Python 3",
   "language": "python",
   "name": "python3"
  },
  "language_info": {
   "codemirror_mode": {
    "name": "ipython",
    "version": 3
   },
   "file_extension": ".py",
   "mimetype": "text/x-python",
   "name": "python",
   "nbconvert_exporter": "python",
   "pygments_lexer": "ipython3",
   "version": "3.7.6"
  }
 },
 "nbformat": 4,
 "nbformat_minor": 4
}
